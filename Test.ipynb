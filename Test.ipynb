{
 "cells": [
  {
   "cell_type": "code",
   "execution_count": 8,
   "id": "6c37c3b1",
   "metadata": {},
   "outputs": [
    {
     "ename": "TypeError",
     "evalue": "OpenAI.__init__() got an unexpected keyword argument 'api_base'",
     "output_type": "error",
     "traceback": [
      "\u001b[31m---------------------------------------------------------------------------\u001b[39m",
      "\u001b[31mTypeError\u001b[39m                                 Traceback (most recent call last)",
      "\u001b[36mCell\u001b[39m\u001b[36m \u001b[39m\u001b[32mIn[8]\u001b[39m\u001b[32m, line 9\u001b[39m\n\u001b[32m      6\u001b[39m os.environ[\u001b[33m\"\u001b[39m\u001b[33mOPENAI_API_KEY\u001b[39m\u001b[33m\"\u001b[39m] = \u001b[33m\"\u001b[39m\u001b[33msk-or-v1-b4fdf13dc88fa04abd85dcd3931261cf23e903fcfebb863db0d93c238a2718d1\u001b[39m\u001b[33m\"\u001b[39m  \u001b[38;5;66;03m# Yes, still OPENAI_API_KEY\u001b[39;00m\n\u001b[32m      7\u001b[39m openai_api_base = \u001b[33m\"\u001b[39m\u001b[33mhttps://openrouter.ai/api/v1/chat/completions\u001b[39m\u001b[33m\"\u001b[39m\n\u001b[32m----> \u001b[39m\u001b[32m9\u001b[39m client = \u001b[43mOpenAI\u001b[49m\u001b[43m(\u001b[49m\u001b[43mapi_key\u001b[49m\u001b[43m=\u001b[49m\u001b[43mos\u001b[49m\u001b[43m.\u001b[49m\u001b[43menviron\u001b[49m\u001b[43m[\u001b[49m\u001b[33;43m\"\u001b[39;49m\u001b[33;43mOPENAI_API_KEY\u001b[39;49m\u001b[33;43m\"\u001b[39;49m\u001b[43m]\u001b[49m\u001b[43m,\u001b[49m\u001b[43m \u001b[49m\u001b[43mapi_base\u001b[49m\u001b[43m=\u001b[49m\u001b[43mopenai_api_base\u001b[49m\u001b[43m)\u001b[49m\n\u001b[32m     11\u001b[39m chat = client.chat.completions.create(model=\u001b[33m\"\u001b[39m\u001b[33mdeepseek/deepseek-r1:free\u001b[39m\u001b[33m\"\u001b[39m,\n\u001b[32m     12\u001b[39m                                       messages=[HumanMessage(content=\u001b[33m\"\u001b[39m\u001b[33mHello world\u001b[39m\u001b[33m\"\u001b[39m)],\n\u001b[32m     13\u001b[39m                                       temperature=\u001b[32m0.5\u001b[39m)\n\u001b[32m     15\u001b[39m \u001b[38;5;28mprint\u001b[39m(chat)\n",
      "\u001b[31mTypeError\u001b[39m: OpenAI.__init__() got an unexpected keyword argument 'api_base'"
     ]
    }
   ],
   "source": [
    "import os\n",
    "from langchain.chat_models import ChatOpenAI\n",
    "from langchain.schema import HumanMessage\n",
    "from openai import OpenAI\n",
    "# 🔑 Set your OpenRouter API key\n",
    "os.environ[\"OPENAI_API_KEY\"] = \"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\"  # Yes, still OPENAI_API_KEY\n",
    "openai_api_base = \"https://openrouter.ai/api/v1/chat/completions\"\n",
    "\n",
    "client = OpenAI(api_key=os.environ[\"OPENAI_API_KEY\"], api_base=openai_api_base)\n",
    "\n",
    "chat = client.chat.completions.create(model=\"deepseek/deepseek-r1:free\",\n",
    "                                      messages=[HumanMessage(content=\"Hello world\")],\n",
    "                                      temperature=0.5)\n",
    "\n",
    "print(chat)\n",
    "\n"
   ]
  },
  {
   "cell_type": "code",
   "execution_count": null,
   "id": "ae66aac5",
   "metadata": {},
   "outputs": [],
   "source": [
    "mode"
   ]
  }
 ],
 "metadata": {
  "kernelspec": {
   "display_name": ".venv",
   "language": "python",
   "name": "python3"
  },
  "language_info": {
   "codemirror_mode": {
    "name": "ipython",
    "version": 3
   },
   "file_extension": ".py",
   "mimetype": "text/x-python",
   "name": "python",
   "nbconvert_exporter": "python",
   "pygments_lexer": "ipython3",
   "version": "3.12.6"
  }
 },
 "nbformat": 4,
 "nbformat_minor": 5
}
